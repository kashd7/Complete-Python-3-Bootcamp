{
  "cells": [
    {
      "cell_type": "markdown",
      "metadata": {
        "id": "view-in-github",
        "colab_type": "text"
      },
      "source": [
        "<a href=\"https://colab.research.google.com/github/kashd7/Complete-Python-3-Bootcamp/blob/master/microlab2__kyle_shannon_.ipynb\" target=\"_parent\"><img src=\"https://colab.research.google.com/assets/colab-badge.svg\" alt=\"Open In Colab\"/></a>"
      ]
    },
    {
      "cell_type": "markdown",
      "metadata": {
        "id": "IwZfZdUsmbgl"
      },
      "source": [
        "# Microlab 2 - Word embeddings with Gensim library and Word2Vec\n",
        "## Step 1 - Upload the oppenheimer file (oppenheimer.txt)"
      ]
    },
    {
      "cell_type": "code",
      "execution_count": 8,
      "metadata": {
        "colab": {
          "base_uri": "https://localhost:8080/",
          "height": 73
        },
        "id": "pzmoF8fWjYEH",
        "outputId": "d7201ee2-a492-4694-f18e-8a8917fd7fe5"
      },
      "outputs": [
        {
          "output_type": "display_data",
          "data": {
            "text/plain": [
              "<IPython.core.display.HTML object>"
            ],
            "text/html": [
              "\n",
              "     <input type=\"file\" id=\"files-8131fd05-38d4-4d3e-9fb1-6d718f800430\" name=\"files[]\" multiple disabled\n",
              "        style=\"border:none\" />\n",
              "     <output id=\"result-8131fd05-38d4-4d3e-9fb1-6d718f800430\">\n",
              "      Upload widget is only available when the cell has been executed in the\n",
              "      current browser session. Please rerun this cell to enable.\n",
              "      </output>\n",
              "      <script>// Copyright 2017 Google LLC\n",
              "//\n",
              "// Licensed under the Apache License, Version 2.0 (the \"License\");\n",
              "// you may not use this file except in compliance with the License.\n",
              "// You may obtain a copy of the License at\n",
              "//\n",
              "//      http://www.apache.org/licenses/LICENSE-2.0\n",
              "//\n",
              "// Unless required by applicable law or agreed to in writing, software\n",
              "// distributed under the License is distributed on an \"AS IS\" BASIS,\n",
              "// WITHOUT WARRANTIES OR CONDITIONS OF ANY KIND, either express or implied.\n",
              "// See the License for the specific language governing permissions and\n",
              "// limitations under the License.\n",
              "\n",
              "/**\n",
              " * @fileoverview Helpers for google.colab Python module.\n",
              " */\n",
              "(function(scope) {\n",
              "function span(text, styleAttributes = {}) {\n",
              "  const element = document.createElement('span');\n",
              "  element.textContent = text;\n",
              "  for (const key of Object.keys(styleAttributes)) {\n",
              "    element.style[key] = styleAttributes[key];\n",
              "  }\n",
              "  return element;\n",
              "}\n",
              "\n",
              "// Max number of bytes which will be uploaded at a time.\n",
              "const MAX_PAYLOAD_SIZE = 100 * 1024;\n",
              "\n",
              "function _uploadFiles(inputId, outputId) {\n",
              "  const steps = uploadFilesStep(inputId, outputId);\n",
              "  const outputElement = document.getElementById(outputId);\n",
              "  // Cache steps on the outputElement to make it available for the next call\n",
              "  // to uploadFilesContinue from Python.\n",
              "  outputElement.steps = steps;\n",
              "\n",
              "  return _uploadFilesContinue(outputId);\n",
              "}\n",
              "\n",
              "// This is roughly an async generator (not supported in the browser yet),\n",
              "// where there are multiple asynchronous steps and the Python side is going\n",
              "// to poll for completion of each step.\n",
              "// This uses a Promise to block the python side on completion of each step,\n",
              "// then passes the result of the previous step as the input to the next step.\n",
              "function _uploadFilesContinue(outputId) {\n",
              "  const outputElement = document.getElementById(outputId);\n",
              "  const steps = outputElement.steps;\n",
              "\n",
              "  const next = steps.next(outputElement.lastPromiseValue);\n",
              "  return Promise.resolve(next.value.promise).then((value) => {\n",
              "    // Cache the last promise value to make it available to the next\n",
              "    // step of the generator.\n",
              "    outputElement.lastPromiseValue = value;\n",
              "    return next.value.response;\n",
              "  });\n",
              "}\n",
              "\n",
              "/**\n",
              " * Generator function which is called between each async step of the upload\n",
              " * process.\n",
              " * @param {string} inputId Element ID of the input file picker element.\n",
              " * @param {string} outputId Element ID of the output display.\n",
              " * @return {!Iterable<!Object>} Iterable of next steps.\n",
              " */\n",
              "function* uploadFilesStep(inputId, outputId) {\n",
              "  const inputElement = document.getElementById(inputId);\n",
              "  inputElement.disabled = false;\n",
              "\n",
              "  const outputElement = document.getElementById(outputId);\n",
              "  outputElement.innerHTML = '';\n",
              "\n",
              "  const pickedPromise = new Promise((resolve) => {\n",
              "    inputElement.addEventListener('change', (e) => {\n",
              "      resolve(e.target.files);\n",
              "    });\n",
              "  });\n",
              "\n",
              "  const cancel = document.createElement('button');\n",
              "  inputElement.parentElement.appendChild(cancel);\n",
              "  cancel.textContent = 'Cancel upload';\n",
              "  const cancelPromise = new Promise((resolve) => {\n",
              "    cancel.onclick = () => {\n",
              "      resolve(null);\n",
              "    };\n",
              "  });\n",
              "\n",
              "  // Wait for the user to pick the files.\n",
              "  const files = yield {\n",
              "    promise: Promise.race([pickedPromise, cancelPromise]),\n",
              "    response: {\n",
              "      action: 'starting',\n",
              "    }\n",
              "  };\n",
              "\n",
              "  cancel.remove();\n",
              "\n",
              "  // Disable the input element since further picks are not allowed.\n",
              "  inputElement.disabled = true;\n",
              "\n",
              "  if (!files) {\n",
              "    return {\n",
              "      response: {\n",
              "        action: 'complete',\n",
              "      }\n",
              "    };\n",
              "  }\n",
              "\n",
              "  for (const file of files) {\n",
              "    const li = document.createElement('li');\n",
              "    li.append(span(file.name, {fontWeight: 'bold'}));\n",
              "    li.append(span(\n",
              "        `(${file.type || 'n/a'}) - ${file.size} bytes, ` +\n",
              "        `last modified: ${\n",
              "            file.lastModifiedDate ? file.lastModifiedDate.toLocaleDateString() :\n",
              "                                    'n/a'} - `));\n",
              "    const percent = span('0% done');\n",
              "    li.appendChild(percent);\n",
              "\n",
              "    outputElement.appendChild(li);\n",
              "\n",
              "    const fileDataPromise = new Promise((resolve) => {\n",
              "      const reader = new FileReader();\n",
              "      reader.onload = (e) => {\n",
              "        resolve(e.target.result);\n",
              "      };\n",
              "      reader.readAsArrayBuffer(file);\n",
              "    });\n",
              "    // Wait for the data to be ready.\n",
              "    let fileData = yield {\n",
              "      promise: fileDataPromise,\n",
              "      response: {\n",
              "        action: 'continue',\n",
              "      }\n",
              "    };\n",
              "\n",
              "    // Use a chunked sending to avoid message size limits. See b/62115660.\n",
              "    let position = 0;\n",
              "    do {\n",
              "      const length = Math.min(fileData.byteLength - position, MAX_PAYLOAD_SIZE);\n",
              "      const chunk = new Uint8Array(fileData, position, length);\n",
              "      position += length;\n",
              "\n",
              "      const base64 = btoa(String.fromCharCode.apply(null, chunk));\n",
              "      yield {\n",
              "        response: {\n",
              "          action: 'append',\n",
              "          file: file.name,\n",
              "          data: base64,\n",
              "        },\n",
              "      };\n",
              "\n",
              "      let percentDone = fileData.byteLength === 0 ?\n",
              "          100 :\n",
              "          Math.round((position / fileData.byteLength) * 100);\n",
              "      percent.textContent = `${percentDone}% done`;\n",
              "\n",
              "    } while (position < fileData.byteLength);\n",
              "  }\n",
              "\n",
              "  // All done.\n",
              "  yield {\n",
              "    response: {\n",
              "      action: 'complete',\n",
              "    }\n",
              "  };\n",
              "}\n",
              "\n",
              "scope.google = scope.google || {};\n",
              "scope.google.colab = scope.google.colab || {};\n",
              "scope.google.colab._files = {\n",
              "  _uploadFiles,\n",
              "  _uploadFilesContinue,\n",
              "};\n",
              "})(self);\n",
              "</script> "
            ]
          },
          "metadata": {}
        },
        {
          "output_type": "stream",
          "name": "stdout",
          "text": [
            "Saving oppenheimer.txt to oppenheimer (1).txt\n"
          ]
        }
      ],
      "source": [
        "from google.colab import files\n",
        "uploaded = files.upload()\n",
        "corpus_name = next(iter(uploaded))"
      ]
    },
    {
      "cell_type": "markdown",
      "source": [
        "### Enable logging"
      ],
      "metadata": {
        "id": "erYiZcQGHML8"
      }
    },
    {
      "cell_type": "code",
      "execution_count": 9,
      "metadata": {
        "id": "DKgmVqJsCqeC"
      },
      "outputs": [],
      "source": [
        "import logging\n",
        "logging.basicConfig(format='%(asctime)s : %(levelname)s : %(message)s', level=logging.INFO)"
      ]
    },
    {
      "cell_type": "markdown",
      "metadata": {
        "id": "vJrtcuShJs7R"
      },
      "source": [
        "## Task 1 - Using pre-trained embeddings\n",
        "### Load text8 corpus (trained on Wikipedia) and train the Word2Vec model on it\n"
      ]
    },
    {
      "cell_type": "code",
      "execution_count": 10,
      "metadata": {
        "id": "INhdVML3Jwvl"
      },
      "outputs": [],
      "source": [
        "from gensim.test.utils import datapath\n",
        "from gensim import utils\n",
        "import gensim.downloader as api\n",
        "from gensim.models.word2vec import Word2Vec\n",
        "\n",
        "# Load text8 corpus using gensim's api loader\n",
        "corpus = api.load('text8')\n",
        "# train a word2vec model on a corpus\n",
        "model = Word2Vec(corpus)"
      ]
    },
    {
      "cell_type": "markdown",
      "metadata": {
        "id": "zzQfo0mEMfJY"
      },
      "source": [
        "## Task 2 - Calculate the analogy\n",
        "\n",
        "\n"
      ]
    },
    {
      "cell_type": "code",
      "execution_count": 13,
      "metadata": {
        "colab": {
          "base_uri": "https://localhost:8080/"
        },
        "id": "p0bonXWdMb1E",
        "outputId": "fb0023bc-fa8c-4fc0-fd2f-499361fdc014"
      },
      "outputs": [
        {
          "output_type": "stream",
          "name": "stdout",
          "text": [
            "zoology\n"
          ]
        }
      ],
      "source": [
        "# Execute an equivalent of physics + england - germany\n",
        "result = model.wv.most_similar(positive=['physics', 'england'], negative=['germany'], topn=1)\n",
        "print(result[0][0])"
      ]
    },
    {
      "cell_type": "markdown",
      "metadata": {
        "id": "fuNYZeVdK1WM"
      },
      "source": [
        "\n",
        "## Task 3 - Get the most similar words for pre-trained word embeddings but of different vector sizes\n",
        "\n",
        "Load the pre-trained glove twitter embeddings for vector sizes 25 and 50 and for each, display the top 5 most similar words to Zagreb (The capital city of Croatia). You will need to search for \"zagreb\".\n",
        "\n",
        "Provide your comments on the results in the text cell below.\n"
      ]
    },
    {
      "cell_type": "code",
      "execution_count": 14,
      "metadata": {
        "id": "XVz1bo5DK1m1",
        "colab": {
          "base_uri": "https://localhost:8080/"
        },
        "outputId": "463b8920-3f5f-41ba-d076-4ae63588a6ef"
      },
      "outputs": [
        {
          "output_type": "stream",
          "name": "stdout",
          "text": [
            "[==================================================] 100.0% 104.8/104.8MB downloaded\n",
            "[('maribor', 0.9052988290786743), ('brno', 0.9016597867012024), ('cfr', 0.8882912993431091), ('yekaterinburg', 0.8880559802055359), ('ludogorets', 0.8850924372673035)]\n",
            "[==================================================] 100.0% 199.5/199.5MB downloaded\n",
            "[('panathinaikos', 0.7913975715637207), ('maribor', 0.7681875228881836), ('rijeka', 0.7666765451431274), ('charleroi', 0.761013388633728), ('belgrade', 0.7589760422706604)]\n"
          ]
        }
      ],
      "source": [
        "# Your solution here - one for glow twitter of size 25 and one for 50\n",
        "model_glove_twitter25 = api.load('glove-twitter-25')\n",
        "\n",
        "print(model_glove_twitter25.most_similar('zagreb', topn=5))\n",
        "\n",
        "model_glove_twitter50 = api.load('glove-twitter-50')\n",
        "\n",
        "print(model_glove_twitter50.most_similar('zagreb', topn=5))"
      ]
    },
    {
      "cell_type": "markdown",
      "source": [
        "### TODO: Add your comments on the results from Task 3:"
      ],
      "metadata": {
        "id": "U0X-jxGoNaru"
      }
    },
    {
      "cell_type": "markdown",
      "metadata": {
        "id": "clucPRdeLEWr"
      },
      "source": [
        "### Building your own corpus for Word2Vec\n",
        "Setting up the custom corpus handlers"
      ]
    },
    {
      "cell_type": "code",
      "execution_count": 16,
      "metadata": {
        "id": "9_Kz2PzDELlm"
      },
      "outputs": [],
      "source": [
        "from gensim.test.utils import datapath\n",
        "from gensim import utils\n",
        "from gensim.parsing import remove_stopwords\n",
        "\n",
        "class OppenheimerCorpus(object):\n",
        "    \"\"\"An interator that yields sentences (lists of str).\"\"\"\n",
        "\n",
        "    def __iter__(self):\n",
        "        for line in open(corpus_name):\n",
        "          # assume there's one document per line, tokens separated by whitespace\n",
        "           #yield utils.simple_preprocess(line)\n",
        "           yield utils.simple_preprocess(remove_stopwords(line))"
      ]
    },
    {
      "cell_type": "markdown",
      "metadata": {
        "id": "3Lo3dyX-eujT"
      },
      "source": [
        "Print the structure of the corpus:"
      ]
    },
    {
      "cell_type": "code",
      "execution_count": 17,
      "metadata": {
        "id": "JgWivSpDerUy",
        "colab": {
          "base_uri": "https://localhost:8080/"
        },
        "outputId": "c0103c49-565b-4e02-b30a-815095d2432b"
      },
      "outputs": [
        {
          "output_type": "stream",
          "name": "stdout",
          "text": [
            "\n",
            "\n",
            "J. Robert Oppenheimer, in full Julius Robert Oppenheimer, (born April 22, 1904, New York, New York, U.S. —died February 18,\n",
            "\n",
            "1967, Princeton, New Jersey), American theoretical physicist and science administrator, noted as director of the\n",
            "\n",
            "Los Alamos Laboratory (1943–45) during development of the atomic bomb and as director of the Institute for Advanced Study, Princeton (1947–66). Accusations of disloyalty led to a government hearing that resulted in the loss of his security clearance and of his position as adviser to the highest echelons of the U.S. government. The case became a cause célèbre in the world of science because of its implications concerning political and moral issues relating to the role of scientists in government.\n",
            "\n",
            "Oppenheimer was the son of a German immigrant who had made his fortune by importing textiles in New York City. During his undergraduate studies at Harvard University, Oppenheimer excelled in Latin, Greek, physics, and chemistry, published poetry, and studied Eastern philosophy. After graduating in 1925, he sailed for England to do research at the Cavendish Laboratory at the University of Cambridge, which, under the leadership of Lord Ernest Rutherford, had an international reputation for its pioneering studies on atomic structure. At the Cavendish, Oppenheimer had the opportunity to collaborate with the British scientific community in its efforts to advance the cause of atomic research.\n",
            "\n",
            "Max Born invited Oppenheimer to University of Göttingen, where he met other prominent physicists, such as Niels Bohr and P.A.M. Dirac, and where, in 1927, he received his doctorate. After short visits at science centres in Leiden and Zürich, he returned to the United States to teach physics at the University of California at Berkeley and the California Institute of Technology.\n",
            "\n",
            "In the 1920s the new quantum and relativity theories were engaging the attention of science. That mass was equivalent to energy and that matter could be both wavelike and corpuscular carried implications seen only dimly at that time. Oppenheimer’s early research was devoted in particular to energy processes of subatomic particles, including electrons, positrons, and cosmic rays. He also did groundbreaking work on neutron stars and black holes. Since quantum theory had been proposed only a few years before, the university post provided him an excellent opportunity to devote his entire career to the exploration and development of its full significance. In addition, he trained a whole generation of U.S. physicists, who were greatly affected by his qualities of leadership and intellectual independence.\n",
            "\n",
            "The rise of Adolf Hitler in Germany stirred his first interest in politics. In 1936 he sided with the republic during the Civil War in Spain, where he became acquainted with communist students. Although his father’s death in 1937 left Oppenheimer a fortune that allowed him to subsidize anti-fascist organizations, the tragic suffering inflicted by Joseph Stalin on Russian scientists led him to withdraw his associations with the Communist Party—in fact, he never joined the party—and at the same time reinforced in him a liberal democratic philosophy. In 1939, Oppenheimer began an affair with Katharine Puening, a graduate student in botany at the University of California, Los Angeles. Puening divorced her husband and married Oppenheimer in 1940.\n",
            "\n",
            "\n",
            "\n",
            "After the invasion of Poland by Nazi Germany in 1939, the physicists Albert Einstein, Leo Szilard, and Eugene Wigner warned the U.S. government of the danger threatening all of humanity if the Nazis should be the first to make a nuclear bomb. Oppenheimer then began to seek a process for the separation of uranium-235 from natural uranium and to determine the critical mass of uranium required to make such a bomb. In August 1942 the U.S. Army was given the responsibility of organizing the efforts of British and U.S.\n",
            "\n",
            "physicists to seek a way to harness nuclear energy for military purposes, an effort that became known as the Manhattan Project. Oppenheimer was instructed to establish and administer a laboratory to carry out this assignment. In 1943 he chose the plateau of Los Alamos, near Santa Fe, New Mexico.\n",
            "\n",
            "For reasons that have not been made clear, Oppenheimer in 1942 initiated discussions with military security agents that culminated with the implication that some of his friends and acquaintances were agents of the Soviet government. This led to the dismissal of a personal friend on the faculty at the University of California. In a 1954 security hearing, he described his contribution to those discussions as “a tissue of lies.”\n",
            "\n",
            "The joint effort of outstanding scientists at Los Alamos culminated in the first nuclear explosion, on July 16, 1945, at the Trinity Site near Alamogordo, New Mexico, after the surrender of Germany. In October of the same year, Oppenheimer resigned his post. In 1947 he became head of the Institute for Advanced Study and served from 1947 until 1952 as chairman of the General Advisory Committee of the Atomic Energy Commission, which in October 1949 opposed development of the hydrogen bomb.\n",
            "\n",
            "\n",
            "\n",
            "On December 21, 1953, he was notified of a military security report unfavourable to him and was accused of having associated with communists in the past, of delaying the naming of Soviet agents, and of opposing the building of the hydrogen bomb. The following year, a security hearing declared him not guilty of treason but ruled that he should not have access to military secrets. As a result, his contract as adviser to the U.S. Atomic Energy Commission was canceled. The Federation of American Scientists immediately came to his defense with a protest against the trial. Oppenheimer was made the worldwide symbol of the scientist who, while trying to resolve the moral problems that arise from scientific discovery, becomes the victim of a witch hunt. He spent the last years of his life working out ideas on the relationship between science and society.\n",
            "\n",
            "In 1963 U.S. Pres. Lyndon B. Johnson presented Oppenheimer with the Enrico Fermi Award of the Atomic Energy Commission. Oppenheimer retired from the Institute for Advanced Study in 1966 and died of throat cancer the following year. In 2014, 60 years after the proceedings that effectively ended Oppenheimer’s career, the U.S. Department of Energy released the full, declassified transcript of the hearing. While many of the details were already known, the newly released material bolstered Oppenheimer’s assertions of loyalty and reinforced the perception that a brilliant scientist had been brought low by a bureaucratic cocktail of professional jealousy and McCarthyism. In 2022 the Department of Energy formally vacated the revocation of Oppenheimer’s security clearance. Energy Secretary Jennifer Granholm claimed that the “bias and unfairness” of a “flawed process” had led to his exile from the nuclear establishment. Christopher Nolan’s Oppenheimer (2023), cast Cillian Murphy in the title role of a film that explored Oppenheimer’s role in the development of the atomic bomb and the events that led to the 1954 security hearing.\n",
            "\n"
          ]
        }
      ],
      "source": [
        "from gensim.test.utils import datapath\n",
        "\n",
        "for line in open(corpus_name):\n",
        "  print (line)"
      ]
    },
    {
      "cell_type": "markdown",
      "source": [
        "Go with default Word2Vec settings."
      ],
      "metadata": {
        "id": "0OocvrMuN_fs"
      }
    },
    {
      "cell_type": "code",
      "execution_count": 18,
      "metadata": {
        "id": "igdKd8FTEN1_"
      },
      "outputs": [],
      "source": [
        "from gensim.models.word2vec import Word2Vec\n",
        "from gensim.parsing import remove_stopwords\n",
        "\n",
        "sentences = OppenheimerCorpus()\n",
        "model = Word2Vec(sentences=sentences)"
      ]
    },
    {
      "cell_type": "markdown",
      "source": [
        "### Task 4 - Print the most similar words to 'oppenheimer'"
      ],
      "metadata": {
        "id": "aWpPpZ8UOJAO"
      }
    },
    {
      "cell_type": "code",
      "execution_count": 25,
      "metadata": {
        "id": "1SaFv1-Ps3Fm",
        "colab": {
          "base_uri": "https://localhost:8080/"
        },
        "outputId": "00eed4ff-a2d9-4a08-f506-9e15d5f69f82"
      },
      "outputs": [
        {
          "output_type": "stream",
          "name": "stdout",
          "text": [
            "[('hearing', 0.2203587293624878), ('science', 0.09712884575128555), ('bomb', 0.09336574375629425), ('led', 0.08591261506080627), ('government', 0.06553591787815094), ('the', 0.028935212641954422), ('new', 0.015833159908652306), ('in', 0.0062729353085160255), ('security', -0.025830324739217758), ('energy', -0.050737299025058746)]\n"
          ]
        }
      ],
      "source": [
        "# Display the most similar word to 'oppenheimer' using similar_by_word API\n",
        "\n",
        "model_oppenheimer = model.wv.similar_by_word('oppenheimer')\n",
        "\n",
        "print(model_oppenheimer)"
      ]
    },
    {
      "cell_type": "markdown",
      "metadata": {
        "id": "Sz2HInc7HMa2"
      },
      "source": [
        "### Task 5 - Model with custom training parameters\n",
        "\n",
        "Train the CBOW model with vector size 200 and window 5.\n",
        "Make sure you read the API for Word2Vec on how to do this correctly.\n",
        "\n",
        "Then, print the most similar vectors to the term 'oppenheimer'. Comment on the differences from Task 4.\n",
        "\n",
        "\n"
      ]
    },
    {
      "cell_type": "code",
      "execution_count": 44,
      "metadata": {
        "id": "mFNG4Eh1HRiJ",
        "colab": {
          "base_uri": "https://localhost:8080/"
        },
        "outputId": "89623bbd-6d1a-4196-c111-643d730e459d"
      },
      "outputs": [
        {
          "output_type": "stream",
          "name": "stdout",
          "text": [
            "[('hearing', 0.2203587293624878), ('science', 0.09712884575128555), ('bomb', 0.09336574375629425), ('led', 0.08591261506080627), ('government', 0.06553591787815094), ('the', 0.028935212641954422), ('new', 0.015833159908652306), ('in', 0.0062729353085160255), ('security', -0.025830324739217758), ('energy', -0.050737299025058746)]\n"
          ]
        }
      ],
      "source": [
        "''' Using classgensim.models.word2vec.Word2Vec, train Word2Vec on OppenheimerCorpus\n",
        " sentences, and for this use CBOW as an algorithm, set vector size to 200 and context window size to 5\n",
        " then display the results for the term \"oppenheimer\" using similar_by_word API '''\n",
        "#import gensim.models\n",
        "\n",
        "cbow = OppenheimerCorpus()\n",
        "\n",
        "model = Word2Vec(cbow)\n",
        "\n",
        "model1 = Word2Vec(sentences,vector_size=200,window=5)\n",
        "\n",
        "term = 'oppenheimer'\n",
        "\n",
        "try:\n",
        "  lookup_oppenheimer = model.wv.similar_by_word(term)\n",
        "  print(lookup_oppenheimer)\n",
        "except:\n",
        "  print(\"The word \" + lookup_oppenheimer + \" does not appear in this model.\")\n"
      ]
    },
    {
      "cell_type": "markdown",
      "source": [
        "### TODO: Add comments on the differences between Task 4 and Task 5 results."
      ],
      "metadata": {
        "id": "OOUX6w5Nw5pV"
      }
    }
  ],
  "metadata": {
    "colab": {
      "provenance": [],
      "include_colab_link": true
    },
    "kernelspec": {
      "display_name": "Python 3",
      "name": "python3"
    }
  },
  "nbformat": 4,
  "nbformat_minor": 0
}